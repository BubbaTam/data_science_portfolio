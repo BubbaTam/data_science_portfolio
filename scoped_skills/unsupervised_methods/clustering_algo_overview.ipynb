{
 "cells": [
  {
   "cell_type": "markdown",
   "metadata": {},
   "source": [
    "# Models "
   ]
  },
  {
   "cell_type": "markdown",
   "metadata": {},
   "source": [
    "## Contents "
   ]
  },
  {
   "cell_type": "markdown",
   "metadata": {},
   "source": [
    "- K-Means clustering\n",
    "    - Mini-batch K-Means clustering\n",
    "- Agglomerative Clustering \n",
    "- BIRCH Clustering \n",
    "- Affinity Propagation\n",
    "- DBSCAN (density-based clustering)\n",
    "- Mean-Shift\n",
    "- OPTICS (ordering points to identify the clustering structure) \n",
    "- Spectral Clustering\n",
    "- Gaussian Mixtures\n",
    "- Ward Hierarchical clustering"
   ]
  }
 ],
 "metadata": {
  "language_info": {
   "name": "python"
  },
  "orig_nbformat": 4
 },
 "nbformat": 4,
 "nbformat_minor": 2
}
