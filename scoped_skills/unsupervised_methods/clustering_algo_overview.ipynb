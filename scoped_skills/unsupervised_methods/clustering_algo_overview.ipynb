{
 "cells": [
  {
   "cell_type": "markdown",
   "metadata": {},
   "source": [
    "# Models "
   ]
  },
  {
   "cell_type": "markdown",
   "metadata": {},
   "source": [
    "## Contents "
   ]
  },
  {
   "cell_type": "markdown",
   "metadata": {},
   "source": [
    "- Finding Cluster Tendency\n",
    "- Finding the amount of clusters within the data\n",
    "    - [Elbow Method](#elbow-method)\n",
    "    - [Silhouette Score](#silhouette-score)\n",
    "- Models for Unclassified problems:\n",
    "    - K-Means clustering\n",
    "        - Mini-batch K-Means clustering\n",
    "    - Agglomerative Clustering\n",
    "    - BIRCH Clustering\n",
    "    - Affinity Propagation\n",
    "    - DBSCAN (density-based clustering)\n",
    "    - Mean-Shift\n",
    "    - OPTICS (ordering points to identify the clustering structure) \n",
    "    - Spectral Clustering\n",
    "    - Gaussian Mixtures\n",
    "    - Ward Hierarchical clustering"
   ]
  },
  {
   "cell_type": "markdown",
   "metadata": {},
   "source": [
    "<a id='elbow-method'></a>"
   ]
  },
  {
   "cell_type": "markdown",
   "metadata": {},
   "source": [
    "# Elbow Method"
   ]
  },
  {
   "cell_type": "code",
   "execution_count": 8,
   "metadata": {},
   "outputs": [],
   "source": [
    "# libraries\n",
    "import matplotlib.pyplot as plt\n",
    "from sklearn.datasets import make_blobs\n",
    "from sklearn.cluster import KMeans"
   ]
  },
  {
   "cell_type": "code",
   "execution_count": 6,
   "metadata": {},
   "outputs": [
    {
     "data": {
      "text/plain": [
       "<matplotlib.collections.PathCollection at 0x1e538229370>"
      ]
     },
     "execution_count": 6,
     "metadata": {},
     "output_type": "execute_result"
    },
    {
     "data": {
      "image/png": "[encoded data removed]",
      "text/plain": [
       "<Figure size 432x288 with 1 Axes>"
      ]
     },
     "metadata": {
      "needs_background": "light"
     },
     "output_type": "display_data"
    }
   ],
   "source": [
    "# getting data\n",
    "X, y = make_blobs(n_samples=150, n_features=2, centers=None,random_state=3)\n",
    "plt.scatter(X[:,0],X[:,1], marker=\"+\", c=y)"
   ]
  },
  {
   "cell_type": "code",
   "execution_count": 16,
   "metadata": {},
   "outputs": [],
   "source": [
    "# Elbow method implementation\n",
    "def plot_elbow_method(data,min_clusters:int,max_clusters:int):\n",
    "        max_clusters = max_clusters + 1\n",
    "        wcss = []\n",
    "        for i in range(min_clusters, max_clusters):\n",
    "            kmeans = KMeans(n_clusters = i, init = 'k-means++', random_state = 42)\n",
    "            kmeans.fit(data)\n",
    "            wcss.append(kmeans.inertia_)\n",
    "        labels = [i for i in range(min_clusters,max_clusters)]\n",
    "        plt.plot(range(min_clusters,max_clusters),wcss, 'bx-')\n",
    "        plt.title('Elbow Method')\n",
    "        plt.xlabel('Number of clusters')\n",
    "        plt.xticks(labels)\n",
    "        plt.ylabel('WCSS')\n",
    "        plt.show()"
   ]
  },
  {
   "cell_type": "code",
   "execution_count": 17,
   "metadata": {},
   "outputs": [
    {
     "data": {
      "image/png": "[encoded data removed]",
      "text/plain": [
       "<Figure size 432x288 with 1 Axes>"
      ]
     },
     "metadata": {
      "needs_background": "light"
     },
     "output_type": "display_data"
    }
   ],
   "source": [
    "plot_elbow_method(X,min_clusters=1,max_clusters=6)"
   ]
  }
 ],
 "metadata": {
  "interpreter": {
   "hash": "04ac14935f6ed29b3349ee8f41114d2dfa2ba78ce87cf701ad9b7ca15955b787"
  },
  "kernelspec": {
   "display_name": "Python 3.8.8 ('base')",
   "language": "python",
   "name": "python3"
  },
  "language_info": {
   "codemirror_mode": {
    "name": "ipython",
    "version": 3
   },
   "file_extension": ".py",
   "mimetype": "text/x-python",
   "name": "python",
   "nbconvert_exporter": "python",
   "pygments_lexer": "ipython3",
   "version": "3.9.7"
  },
  "orig_nbformat": 4
 },
 "nbformat": 4,
 "nbformat_minor": 2
}
