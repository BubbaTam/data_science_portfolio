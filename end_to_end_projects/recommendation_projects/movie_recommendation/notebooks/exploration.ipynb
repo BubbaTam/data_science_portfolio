{
 "cells": [
  {
   "cell_type": "markdown",
   "metadata": {},
   "source": [
    "# Exploration"
   ]
  },
  {
   "cell_type": "markdown",
   "metadata": {},
   "source": [
    "## Data Cleaning "
   ]
  },
  {
   "cell_type": "markdown",
   "metadata": {},
   "source": [
    "#### Summary of what needs to be done to clean the data for each feature"
   ]
  },
  {
   "cell_type": "markdown",
   "metadata": {},
   "source": [
    "##### Credits dataset"
   ]
  },
  {
   "cell_type": "markdown",
   "metadata": {},
   "source": [
    "| Feature | Action | Description |\n",
    "| -------- | ------------|-------------|\n",
    "| movie_id | Dropped | Dropped during the merging of datasets |\n",
    "| title | Dropped | Used the title feature from movies dataset |\n",
    "| cast | Transformed | A list of the cast member names |\n",
    "| crew | Transformed | A list of the crew member names |\n"
   ]
  },
  {
   "cell_type": "markdown",
   "metadata": {},
   "source": [
    "#### Movies dataset\n",
    "| Feature | Action | Description |\n",
    "| -------- | ------------|-------------|\n",
    "| budget | NA | NA |\n",
    "| genres | Transformed | A list of genres of the film |\n",
    "| homepage | Dropped! | Not needed for this version of project |\n",
    "| id | NA | NA |\n",
    "| keywords | Transformed | A list of keywords of the film |\n",
    "| original_language | NA | NA |\n",
    "| original_title |\n",
    "| overview |\n",
    "| popularity |\n",
    "| production_companies |\n",
    "| production_countries |\n",
    "| release_date |\n",
    "| revenue |\n",
    "| runtime |\n",
    "| spoken_languages |\n",
    "| status |\n",
    "| tagline |\n",
    "| title |\n",
    "| vote_average |\n",
    "| vote_count |"
   ]
  },
  {
   "cell_type": "markdown",
   "metadata": {},
   "source": [
    "data cleaning reminder -- <strong>Data Quality assessment</strong>\n",
    "\n",
    "| Category | Completion? | Description |\n",
    "| -------- | ------------|-------------|\n",
    "| Accuracy | [ ] | Does it reflect reality over time |\n",
    "| Completeness | [ ] | is the requisite information there |\n",
    "| Consistency | [ x ] | Data match with other datasets |\n",
    "| Currency | [ ] | Values up to date |\n",
    "| Relevancy | [ ] | Relevant to objective |\n",
    "| Validity | [ ] | Data containing valuable values |\n",
    "| No duplicates | [ ] | Only one instance of a data point |"
   ]
  },
  {
   "cell_type": "code",
   "execution_count": null,
   "metadata": {},
   "outputs": [],
   "source": [
    "from src.config import RAW_DATA_CREDITS,RAW_DATA_MOVIES\n",
    "\n",
    "import pandas as pd\n",
    "import numpy as np\n",
    "import matplotlib.pyplot as plt\n",
    "import seaborn as sns\n",
    "import json"
   ]
  },
  {
   "cell_type": "code",
   "execution_count": null,
   "metadata": {},
   "outputs": [],
   "source": [
    "df_credits = pd.read_csv(RAW_DATA_CREDITS)\n",
    "df_movies = pd.read_csv(RAW_DATA_MOVIES)"
   ]
  },
  {
   "cell_type": "code",
   "execution_count": null,
   "metadata": {},
   "outputs": [],
   "source": [
    "# functions to clean\n",
    "def format_json_inputs(dataframe):\n",
    "    \"\"\"change json inputs into a list datatype\n",
    "\n",
    "    Args:\n",
    "        columns (list): _description_\n",
    "        dataframe (pd.Dataframe): _description_\n",
    "    \"\"\"\n",
    "    json_columns = [\"genres\",\"keywords\",\"cast\",\"crew\",\"production_companies\",\"production_countries\",\"spoken_languages\"]\n",
    "    for column in json_columns:\n",
    "        dataframe[column] = dataframe[column].apply(json.loads)\n",
    "def get_info_from_dict_list(dataframe):\n",
    "    #not include\n",
    "    json_columns = [\"genres\",\"keywords\",\"production_companies\",\"production_countries\",\"spoken_languages\"]\n",
    "    for column in json_columns:\n",
    "        dataframe[column] = dataframe[column].apply(lambda x: [ _['name'] for _ in x])\n",
    "def clean_status_then_removal(dataframe):\n",
    "    post_production_index = dataframe[dataframe.status=='Post Production'].index\n",
    "    rumored_index = dataframe[dataframe.status=='Rumored'].index\n",
    "\n",
    "    combined_index = post_production_index.append(rumored_index)\n",
    "    dataframe = dataframe.drop(combined_index,axis=0)\n",
    "    dataframe = dataframe.drop('status',axis=1)\n",
    "    return dataframe\n",
    "def drop_columns(dataframe):\n",
    "    drop_columns = [\"homepage\",\"original_title\",\"title_y\"]\n",
    "    dataframe.drop(drop_columns,axis=1,inplace=True)\n",
    "def string_to_datetime(dataframe,column):\n",
    "    dataframe[column] = [pd.to_datetime(entity,format=\"%Y-%m-%d\") for entity in dataframe[column]]"
   ]
  }
 ],
 "metadata": {
  "language_info": {
   "name": "python"
  },
  "orig_nbformat": 4
 },
 "nbformat": 4,
 "nbformat_minor": 2
}
