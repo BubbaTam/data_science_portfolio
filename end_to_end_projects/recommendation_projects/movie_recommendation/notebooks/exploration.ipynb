{
 "cells": [
  {
   "cell_type": "markdown",
   "metadata": {},
   "source": [
    "# Process of Exploration\n",
    "- clean the data\n",
    "- transformation to data"
   ]
  },
  {
   "cell_type": "markdown",
   "metadata": {},
   "source": [
    "Contextual information:\n",
    "- Possible questions to look at\n",
    "    - Is there a way to predict the success of the movie (monetary, reviews, )\n",
    "- Reliability of data\n",
    "    - mentioned that the revenue for Avatar understated the $2 billion global revenue\n",
    "    - consider details for different version of a film (me - think about the multiple different version of Star Wars: New Hope)\n",
    "    -[?] check if the information is accurate for a couple of entities"
   ]
  },
  {
   "cell_type": "markdown",
   "metadata": {},
   "source": [
    "## Data Cleaning "
   ]
  },
  {
   "cell_type": "markdown",
   "metadata": {},
   "source": [
    "#### Summary of what needs to be done to clean the data for each feature"
   ]
  },
  {
   "cell_type": "markdown",
   "metadata": {},
   "source": [
    "##### Credits dataset"
   ]
  },
  {
   "cell_type": "markdown",
   "metadata": {},
   "source": [
    "| Feature | Action | Description |\n",
    "| -------- | ------------|-------------|\n",
    "| movie_id | Dropped Feature | Dropped during data cleaning |\n",
    "| title | Dropped Feature | Used the title feature from movies dataset |\n",
    "| cast | ***Transformed | [AN ITERATIVE PROCESS] Currently a list of the cast member names |\n",
    "| crew | ***Transformed | [AN ITERATIVE PROCESS] Currently a list of the crew member names  |\n"
   ]
  },
  {
   "cell_type": "markdown",
   "metadata": {},
   "source": [
    "#### Movies dataset\n",
    "| Feature | Action | Description |\n",
    "| -------- | ------------|-------------|\n",
    "| budget | NA | NA |\n",
    "| genres | Transformed | A list of genres of the film |\n",
    "| homepage | ***Dropped | I will not need the 'home page' feature for this iteration stage of the project. When I make a deployed app, it can link to the corresponding website. An issue can be faulty hyperlinks, but that is for later iterations. |\n",
    "| id | Transformed | Changed data type from int to string |\n",
    "| keywords | Transformed | A list of keywords of the film |\n",
    "| original_language | NA | NA |\n",
    "| original_title |\n",
    "| overview |\n",
    "| popularity |\n",
    "| production_companies |\n",
    "| production_countries |\n",
    "| release_date |\n",
    "| revenue |\n",
    "| runtime |\n",
    "| spoken_languages |\n",
    "| status | Dropped Feature* | removed films that were not 'released' and dropped feature |\n",
    "| tagline |\n",
    "| title |\n",
    "| vote_average |\n",
    "| vote_count |"
   ]
  },
  {
   "cell_type": "markdown",
   "metadata": {},
   "source": [
    "data cleaning reminder -- <strong>Data Quality assessment</strong>\n",
    "\n",
    "| Category | Completion? | Description |\n",
    "| -------- | ------------|-------------|\n",
    "| Accuracy | [ ] | Does it reflect reality over time |\n",
    "| Completeness | [ ] | is the requisite information there |\n",
    "| Consistency | [ x ] | Data match with other datasets |\n",
    "| Currency | [ ] | Values up to date |\n",
    "| Relevancy | [ ] | Relevant to objective |\n",
    "| Validity | [ ] | Data containing valuable values |\n",
    "| No duplicates | [ ] | Only one instance of a data point |"
   ]
  },
  {
   "cell_type": "markdown",
   "metadata": {},
   "source": [
    "Data cleaning (More Detail)"
   ]
  },
  {
   "cell_type": "markdown",
   "metadata": {},
   "source": [
    "- status\n",
    "    - questions:\n",
    "        - How many different values are there for the status feature ---- 3\n",
    "            - df_merge.status.unique() >>>>array(['Released', 'Post Production', 'Rumored'], dtype=object)\n",
    "        - should i incorporate 'Post Production' and/or 'Rumoured'? ---- No\n",
    "    - actions\n",
    "        - As i want to remove 'Post Production' and 'Rumoured', have dropped the 'status' feature because there is only one unique value.\n",
    "- ~~original title~~, title(movies) alias title_x ~~and title(credits) alias title_y~~\n",
    "    - questions\n",
    "        - What values are the same to the 'title_x' feature\n",
    "            - A -- different_titles_list = np.where( df_merge.original_title != df_merge.title_x )...df_merge.iloc[different_titles_list]->> **dependent on the original nationality of the film**\n",
    "        - Is there a difference between title(movies) and title(credits)\n",
    "            - A -- df_merge.iloc[np.where( df_merge.title_x != df_merge.title_y)] --> **No**\n",
    "        - How many film names are repeated and what are they\n",
    "            - A -- df_merge.groupby('title_x').count()...count_measure[count_measure.id >1]['id'] --> 'The Host', 'Batman', 'Out of the Blue' == **3**\n",
    "    - Actions:\n",
    "        - Drop 'original_language' and 'title_y': Will currently will focus on just english version of the titles\n",
    "- original language\n",
    "- release date\n",
    "    - actions\n",
    "        - convert to a datetime datatype\n",
    "            - df_merge.release_date = [pd.to_datetime(entity,format=\"%Y-%m-%d\") for entity in df_merge.release_date]\n",
    "- cast\n",
    "    - Questions:\n",
    "        - what is the best way to represent the cast members for processing? They already have id numbers so i could use that. If left like that, the feature can be seen as ordinal\n",
    "        - [FEATURE IMPORTANCE] Are all the cast members relevant?, should i just use the top billed cast members (like top 10, if)\n",
    "- Crew\n",
    "    - questions\n",
    "        - what is the best way to represent the Crew members for processing?\n",
    "            - possibilities\n",
    "                - just the director\n",
    "\n",
    "\n"
   ]
  },
  {
   "cell_type": "code",
   "execution_count": 1,
   "metadata": {},
   "outputs": [],
   "source": [
    "import os\n",
    "#string manipulation\n",
    "## remove\n",
    "def working_directory():\n",
    "    \"\"\"fixed the issue\n",
    "\n",
    "    Returns:\n",
    "        str: the location of the ideal directory\n",
    "    \"\"\"\n",
    "    return os.getcwd().replace(\"\\\\notebooks\",\"\")\n",
    "os.chdir(working_directory())"
   ]
  },
  {
   "cell_type": "code",
   "execution_count": 2,
   "metadata": {},
   "outputs": [],
   "source": [
    "from config import RAW_DATA_CREDITS,RAW_DATA_MOVIES\n",
    "\n",
    "import pandas as pd\n",
    "import numpy as np\n",
    "import matplotlib.pyplot as plt\n",
    "import seaborn as sns\n",
    "import json\n",
    "from collections import Counter"
   ]
  },
  {
   "cell_type": "code",
   "execution_count": 3,
   "metadata": {},
   "outputs": [],
   "source": [
    "df_credits = pd.read_csv(RAW_DATA_CREDITS)\n",
    "df_movies = pd.read_csv(RAW_DATA_MOVIES)"
   ]
  },
  {
   "cell_type": "code",
   "execution_count": 4,
   "metadata": {},
   "outputs": [],
   "source": [
    "# functions to clean\n",
    "def format_json_inputs(dataframe):\n",
    "    \"\"\"change json inputs into a list datatype\n",
    "\n",
    "    Args:\n",
    "        columns (list): _description_\n",
    "        dataframe (pd.Dataframe): _description_\n",
    "    \"\"\"\n",
    "    json_columns = [\"genres\",\"keywords\",\"cast\",\"crew\",\"production_companies\",\"production_countries\",\"spoken_languages\"]\n",
    "    for column in json_columns:\n",
    "        dataframe[column] = dataframe[column].apply(json.loads)\n",
    "def get_info_from_dict_list(dataframe):\n",
    "    #not include\n",
    "    json_columns = [\"genres\",\"keywords\",\"production_companies\",\"production_countries\",\"spoken_languages\"]\n",
    "    for column in json_columns:\n",
    "        dataframe[column] = dataframe[column].apply(lambda x: [ _['name'] for _ in x])\n",
    "def clean_status_then_removal(dataframe):\n",
    "    post_production_index = dataframe[dataframe.status=='Post Production'].index\n",
    "    rumored_index = dataframe[dataframe.status=='Rumored'].index\n",
    "\n",
    "    combined_index = post_production_index.append(rumored_index)\n",
    "    dataframe = dataframe.drop(combined_index,axis=0)\n",
    "    dataframe = dataframe.drop('status',axis=1)\n",
    "    return dataframe\n",
    "def drop_columns(dataframe):\n",
    "    drop_columns = [\"homepage\",\"original_title\",\"title_y\"]\n",
    "    dataframe.drop(drop_columns,axis=1,inplace=True)\n",
    "def string_to_datetime(dataframe,column):\n",
    "    dataframe[column] = [pd.to_datetime(entity,format=\"%Y-%m-%d\") for entity in dataframe[column]]"
   ]
  },
  {
   "cell_type": "code",
   "execution_count": 5,
   "metadata": {},
   "outputs": [],
   "source": [
    "df_credits = pd.read_csv(RAW_DATA_CREDITS)\n",
    "df_movies = pd.read_csv(RAW_DATA_MOVIES)\n",
    "\n",
    "#merge datasets\n",
    "df_merge = pd.merge(df_movies,df_credits,how=\"left\",left_on='id',right_on='movie_id')\n",
    "format_json_inputs(dataframe=df_merge)\n",
    "df_merge = clean_status_then_removal(dataframe=df_merge)\n",
    "get_info_from_dict_list(dataframe=df_merge)\n",
    "drop_columns(dataframe=df_merge)\n",
    "string_to_datetime(dataframe=df_merge,column='release_date')\n",
    "df_merge.id = df_merge.id.apply(lambda x: str(x))\n",
    "#df_merge.cast = df_merge.cast.apply(lambda x: [i['name'] for i in x]) # just the cast name\n",
    "#df_merge.crew = df_merge.crew.apply(lambda x: [i['name'] for i in x]) # just the crew names\n",
    "df_merge = df_merge.drop(['movie_id'],axis=1)"
   ]
  },
  {
   "cell_type": "markdown",
   "metadata": {},
   "source": [
    "# Exploration"
   ]
  },
  {
   "cell_type": "code",
   "execution_count": 8,
   "metadata": {},
   "outputs": [],
   "source": [
    "def eda_number_1(dataframe:pd.DataFrame):\n",
    "    \"\"\"answers the follwing questions:\n",
    "        - How many features\n",
    "        - How many observations\n",
    "        - What is the datatype of each feature\n",
    "        - Any listed null values\n",
    "    Args:\n",
    "        dataframe (pd.DataFrame): inspect the dataframe\n",
    "    \"\"\"\n",
    "    print(f\"The dataframe has {dataframe.shape[0]} columns and \\\n",
    "{dataframe.shape[1]} rows\")\n",
    "    print(\"****\")\n",
    "    dataframe.info()\n"
   ]
  },
  {
   "cell_type": "code",
   "execution_count": 9,
   "metadata": {},
   "outputs": [
    {
     "name": "stdout",
     "output_type": "stream",
     "text": [
      "The dataframe has 4795 columns and 19 rows\n",
      "****\n",
      "<class 'pandas.core.frame.DataFrame'>\n",
      "Int64Index: 4795 entries, 0 to 4802\n",
      "Data columns (total 19 columns):\n",
      " #   Column                Non-Null Count  Dtype         \n",
      "---  ------                --------------  -----         \n",
      " 0   budget                4795 non-null   int64         \n",
      " 1   genres                4795 non-null   object        \n",
      " 2   id                    4795 non-null   object        \n",
      " 3   keywords              4795 non-null   object        \n",
      " 4   original_language     4795 non-null   object        \n",
      " 5   overview              4792 non-null   object        \n",
      " 6   popularity            4795 non-null   float64       \n",
      " 7   production_companies  4795 non-null   object        \n",
      " 8   production_countries  4795 non-null   object        \n",
      " 9   release_date          4794 non-null   datetime64[ns]\n",
      " 10  revenue               4795 non-null   int64         \n",
      " 11  runtime               4793 non-null   float64       \n",
      " 12  spoken_languages      4795 non-null   object        \n",
      " 13  tagline               3957 non-null   object        \n",
      " 14  title_x               4795 non-null   object        \n",
      " 15  vote_average          4795 non-null   float64       \n",
      " 16  vote_count            4795 non-null   int64         \n",
      " 17  cast                  4795 non-null   object        \n",
      " 18  crew                  4795 non-null   object        \n",
      "dtypes: datetime64[ns](1), float64(3), int64(3), object(12)\n",
      "memory usage: 749.2+ KB\n"
     ]
    }
   ],
   "source": [
    "eda_number_1(df_merge)"
   ]
  },
  {
   "cell_type": "code",
   "execution_count": 8,
   "metadata": {},
   "outputs": [
    {
     "data": {
      "text/html": [
       "<div>\n",
       "<style scoped>\n",
       "    .dataframe tbody tr th:only-of-type {\n",
       "        vertical-align: middle;\n",
       "    }\n",
       "\n",
       "    .dataframe tbody tr th {\n",
       "        vertical-align: top;\n",
       "    }\n",
       "\n",
       "    .dataframe thead th {\n",
       "        text-align: right;\n",
       "    }\n",
       "</style>\n",
       "<table border=\"1\" class=\"dataframe\">\n",
       "  <thead>\n",
       "    <tr style=\"text-align: right;\">\n",
       "      <th></th>\n",
       "      <th>budget</th>\n",
       "      <th>popularity</th>\n",
       "      <th>revenue</th>\n",
       "      <th>runtime</th>\n",
       "      <th>vote_average</th>\n",
       "      <th>vote_count</th>\n",
       "    </tr>\n",
       "  </thead>\n",
       "  <tbody>\n",
       "    <tr>\n",
       "      <th>count</th>\n",
       "      <td>4.795000e+03</td>\n",
       "      <td>4795.000000</td>\n",
       "      <td>4.795000e+03</td>\n",
       "      <td>4793.000000</td>\n",
       "      <td>4795.000000</td>\n",
       "      <td>4795.000000</td>\n",
       "    </tr>\n",
       "    <tr>\n",
       "      <th>mean</th>\n",
       "      <td>2.909267e+07</td>\n",
       "      <td>21.527415</td>\n",
       "      <td>8.239771e+07</td>\n",
       "      <td>106.915084</td>\n",
       "      <td>6.093306</td>\n",
       "      <td>691.360792</td>\n",
       "    </tr>\n",
       "    <tr>\n",
       "      <th>std</th>\n",
       "      <td>4.073962e+07</td>\n",
       "      <td>31.831547</td>\n",
       "      <td>1.629583e+08</td>\n",
       "      <td>22.570343</td>\n",
       "      <td>1.190313</td>\n",
       "      <td>1235.298140</td>\n",
       "    </tr>\n",
       "    <tr>\n",
       "      <th>min</th>\n",
       "      <td>0.000000e+00</td>\n",
       "      <td>0.000000</td>\n",
       "      <td>0.000000e+00</td>\n",
       "      <td>0.000000</td>\n",
       "      <td>0.000000</td>\n",
       "      <td>0.000000</td>\n",
       "    </tr>\n",
       "    <tr>\n",
       "      <th>25%</th>\n",
       "      <td>8.000000e+05</td>\n",
       "      <td>4.723880</td>\n",
       "      <td>0.000000e+00</td>\n",
       "      <td>94.000000</td>\n",
       "      <td>5.600000</td>\n",
       "      <td>54.000000</td>\n",
       "    </tr>\n",
       "    <tr>\n",
       "      <th>50%</th>\n",
       "      <td>1.500000e+07</td>\n",
       "      <td>12.963328</td>\n",
       "      <td>1.925587e+07</td>\n",
       "      <td>104.000000</td>\n",
       "      <td>6.200000</td>\n",
       "      <td>236.000000</td>\n",
       "    </tr>\n",
       "    <tr>\n",
       "      <th>75%</th>\n",
       "      <td>4.000000e+07</td>\n",
       "      <td>28.352222</td>\n",
       "      <td>9.311911e+07</td>\n",
       "      <td>118.000000</td>\n",
       "      <td>6.800000</td>\n",
       "      <td>738.000000</td>\n",
       "    </tr>\n",
       "    <tr>\n",
       "      <th>max</th>\n",
       "      <td>3.800000e+08</td>\n",
       "      <td>875.581305</td>\n",
       "      <td>2.787965e+09</td>\n",
       "      <td>338.000000</td>\n",
       "      <td>10.000000</td>\n",
       "      <td>13752.000000</td>\n",
       "    </tr>\n",
       "  </tbody>\n",
       "</table>\n",
       "</div>"
      ],
      "text/plain": [
       "             budget   popularity       revenue      runtime  vote_average  \\\n",
       "count  4.795000e+03  4795.000000  4.795000e+03  4793.000000   4795.000000   \n",
       "mean   2.909267e+07    21.527415  8.239771e+07   106.915084      6.093306   \n",
       "std    4.073962e+07    31.831547  1.629583e+08    22.570343      1.190313   \n",
       "min    0.000000e+00     0.000000  0.000000e+00     0.000000      0.000000   \n",
       "25%    8.000000e+05     4.723880  0.000000e+00    94.000000      5.600000   \n",
       "50%    1.500000e+07    12.963328  1.925587e+07   104.000000      6.200000   \n",
       "75%    4.000000e+07    28.352222  9.311911e+07   118.000000      6.800000   \n",
       "max    3.800000e+08   875.581305  2.787965e+09   338.000000     10.000000   \n",
       "\n",
       "         vote_count  \n",
       "count   4795.000000  \n",
       "mean     691.360792  \n",
       "std     1235.298140  \n",
       "min        0.000000  \n",
       "25%       54.000000  \n",
       "50%      236.000000  \n",
       "75%      738.000000  \n",
       "max    13752.000000  "
      ]
     },
     "execution_count": 8,
     "metadata": {},
     "output_type": "execute_result"
    }
   ],
   "source": [
    "df_merge.describe()"
   ]
  },
  {
   "cell_type": "markdown",
   "metadata": {},
   "source": [
    "## Univariate Exploration"
   ]
  },
  {
   "cell_type": "markdown",
   "metadata": {},
   "source": [
    "### budget "
   ]
  },
  {
   "cell_type": "code",
   "execution_count": 18,
   "metadata": {},
   "outputs": [
    {
     "data": {
      "image/png": "[encoded data removed]",
      "text/plain": [
       "<Figure size 1080x1080 with 1 Axes>"
      ]
     },
     "metadata": {
      "needs_background": "light"
     },
     "output_type": "display_data"
    }
   ],
   "source": [
    "plt.figure(figsize=(15,15))\n",
    "sns.histplot(df_merge.budget)\n",
    "plt.show()"
   ]
  },
  {
   "cell_type": "code",
   "execution_count": 19,
   "metadata": {},
   "outputs": [
    {
     "data": {
      "image/png": "[encoded data removed]",
      "text/plain": [
       "<Figure size 1080x1080 with 1 Axes>"
      ]
     },
     "metadata": {
      "needs_background": "light"
     },
     "output_type": "display_data"
    }
   ],
   "source": [
    "plt.figure(figsize=(15,15))\n",
    "plt.hist(df_merge.budget,)\n",
    "plt.show()"
   ]
  },
  {
   "cell_type": "code",
   "execution_count": 7,
   "metadata": {},
   "outputs": [
    {
     "data": {
      "text/plain": [
       "1032"
      ]
     },
     "execution_count": 7,
     "metadata": {},
     "output_type": "execute_result"
    }
   ],
   "source": [
    "df_merge[df_merge.budget == 0].shape[0]"
   ]
  },
  {
   "cell_type": "markdown",
   "metadata": {},
   "source": [
    "### genres"
   ]
  },
  {
   "cell_type": "markdown",
   "metadata": {},
   "source": [
    "- questions \n",
    "    - what is the variance of the genre\n",
    "    - what is the central tendency of the genres\n",
    "- During EDA\n",
    "    - what are the similarities between genres (example: 'tv movie' is the least popular genre mentioned; is there a genre that is similar to this genre?)\n",
    "    - what can be used to differentiate further a film "
   ]
  },
  {
   "cell_type": "code",
   "execution_count": 12,
   "metadata": {},
   "outputs": [],
   "source": [
    "def countplot(dataframe:pd.DataFrame,column:str):\n",
    "    \"\"\"\n",
    "    tasks:\n",
    "    - get the values within list for the records\n",
    "    - sort the values into descending order \n",
    "    - create a barchart based on the count of the genre\n",
    "    \"\"\"\n",
    "    values = []\n",
    "    for _ in dataframe[column]:\n",
    "        for x in _:\n",
    "            values.append(x)\n",
    "    values_sorted = Counter(values)\n",
    "    genre_order = [_[0] for _ in values_sorted.most_common()]\n",
    "    sns.set_style(\"whitegrid\")\n",
    "    plt.figure(figsize=(15,15))\n",
    "    plt.xticks(rotation=45)\n",
    "    sns.countplot(x = values,order=genre_order)\n",
    "    plt.show()"
   ]
  },
  {
   "cell_type": "code",
   "execution_count": 15,
   "metadata": {},
   "outputs": [
    {
     "data": {
      "image/png": "[encoded data removed]",
      "text/plain": [
       "<Figure size 1080x1080 with 1 Axes>"
      ]
     },
     "metadata": {},
     "output_type": "display_data"
    }
   ],
   "source": [
    "countplot(dataframe=df_merge,column='genres')"
   ]
  },
  {
   "cell_type": "markdown",
   "metadata": {},
   "source": [
    "### keywords"
   ]
  },
  {
   "cell_type": "markdown",
   "metadata": {},
   "source": [
    "- questions:\n",
    "    - can i use the same method as for genre -- no\n",
    "        - there are 1001 different entities\n",
    "    - how to best represent the keywords, i.e. group war related films as 'war'\n",
    "        - possible ways:\n",
    "            - keep how it is and make the tags features\n",
    "            - manually group related keywords -- no: there are 9806 unique keywords\n",
    "            - auto"
   ]
  },
  {
   "cell_type": "code",
   "execution_count": 39,
   "metadata": {},
   "outputs": [],
   "source": [
    "# to check how many unique values there are \n",
    "def unique_keywords():\n",
    "    values_list = []\n",
    "    for _ in df_merge['keywords']:\n",
    "        for x in _:\n",
    "            values_list.append(x)\n",
    "    values_set = set(values_list)\n",
    "    return (len(values_list),len(values_set))"
   ]
  },
  {
   "cell_type": "code",
   "execution_count": 40,
   "metadata": {},
   "outputs": [
    {
     "data": {
      "text/plain": [
       "(36160, 9806)"
      ]
     },
     "execution_count": 40,
     "metadata": {},
     "output_type": "execute_result"
    }
   ],
   "source": [
    "unique_keywords()"
   ]
  },
  {
   "cell_type": "markdown",
   "metadata": {},
   "source": [
    "### original_language"
   ]
  },
  {
   "cell_type": "markdown",
   "metadata": {},
   "source": [
    "- questions\n",
    "    - what is the variation of original_language\n",
    "        - mainly English"
   ]
  },
  {
   "cell_type": "code",
   "execution_count": 28,
   "metadata": {},
   "outputs": [
    {
     "data": {
      "image/png": "[encoded data removed]",
      "text/plain": [
       "<Figure size 720x360 with 1 Axes>"
      ]
     },
     "metadata": {
      "needs_background": "light"
     },
     "output_type": "display_data"
    }
   ],
   "source": [
    "plt.figure(figsize=(10,5))\n",
    "sns.countplot(x='original_language',data=df_merge)\n",
    "plt.title(label='Number of films for each original language')\n",
    "plt.show()"
   ]
  },
  {
   "cell_type": "markdown",
   "metadata": {},
   "source": [
    "### overview"
   ]
  },
  {
   "cell_type": "markdown",
   "metadata": {},
   "source": [
    "### popularity"
   ]
  },
  {
   "cell_type": "markdown",
   "metadata": {},
   "source": [
    "### production_companies"
   ]
  },
  {
   "cell_type": "markdown",
   "metadata": {},
   "source": [
    "### production_countries"
   ]
  },
  {
   "cell_type": "markdown",
   "metadata": {},
   "source": [
    "### release_date"
   ]
  },
  {
   "cell_type": "markdown",
   "metadata": {},
   "source": [
    "### revenue"
   ]
  },
  {
   "cell_type": "markdown",
   "metadata": {},
   "source": [
    "### runtime"
   ]
  },
  {
   "cell_type": "markdown",
   "metadata": {},
   "source": [
    "### spoken_languages"
   ]
  },
  {
   "cell_type": "markdown",
   "metadata": {},
   "source": [
    "### tagline"
   ]
  },
  {
   "cell_type": "markdown",
   "metadata": {},
   "source": [
    "### title_x"
   ]
  },
  {
   "cell_type": "markdown",
   "metadata": {},
   "source": [
    "### vote_average"
   ]
  },
  {
   "cell_type": "markdown",
   "metadata": {},
   "source": [
    "### vote_count"
   ]
  },
  {
   "cell_type": "markdown",
   "metadata": {},
   "source": [
    "### movie_id"
   ]
  },
  {
   "cell_type": "markdown",
   "metadata": {},
   "source": [
    "### cast"
   ]
  },
  {
   "cell_type": "markdown",
   "metadata": {},
   "source": [
    "### crew"
   ]
  }
 ],
 "metadata": {
  "interpreter": {
   "hash": "04ac14935f6ed29b3349ee8f41114d2dfa2ba78ce87cf701ad9b7ca15955b787"
  },
  "kernelspec": {
   "display_name": "Python 3.8.8 ('base')",
   "language": "python",
   "name": "python3"
  },
  "language_info": {
   "codemirror_mode": {
    "name": "ipython",
    "version": 3
   },
   "file_extension": ".py",
   "mimetype": "text/x-python",
   "name": "python",
   "nbconvert_exporter": "python",
   "pygments_lexer": "ipython3",
   "version": "3.8.8"
  },
  "orig_nbformat": 4
 },
 "nbformat": 4,
 "nbformat_minor": 2
}
