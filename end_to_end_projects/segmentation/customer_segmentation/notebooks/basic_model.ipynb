{
 "cells": [
  {
   "cell_type": "markdown",
   "metadata": {},
   "source": [
    "# Basic Model"
   ]
  },
  {
   "cell_type": "code",
   "execution_count": 13,
   "metadata": {},
   "outputs": [],
   "source": [
    "# sorting current working directory\n",
    "import os\n",
    "def working_directory():\n",
    "    \"\"\"fixed the issue\n",
    "\n",
    "    Returns:\n",
    "        str: the location of the ideal directory\n",
    "    \"\"\"\n",
    "    return os.getcwd().replace(\"\\\\notebooks\",\"\")\n",
    "os.chdir(working_directory())"
   ]
  },
  {
   "cell_type": "markdown",
   "metadata": {},
   "source": [
    "## Libraries"
   ]
  },
  {
   "cell_type": "code",
   "execution_count": 2,
   "metadata": {},
   "outputs": [],
   "source": [
    "#standard libraries\n",
    "import os\n",
    "import sys\n",
    "import multiprocessing\n",
    "\n",
    "#related third party imports\n",
    "import pandas as pd\n",
    "import numpy as np\n",
    "import matplotlib.pyplot as plt\n",
    "import seaborn as sns\n",
    "from sklearn.preprocessing import OneHotEncoder, MinMaxScaler\n",
    "from pyclustertend import hopkins\n",
    "from sklearn.cluster import KMeans, AgglomerativeClustering, AffinityPropagation, SpectralClustering\n",
    "from sklearn.metrics import silhouette_score\n",
    "import joblib\n",
    "\n",
    "#Local application/library specific imports\n",
    "from src.config import RAW_DATA_FILE, DATA_FOLDER, PROCESSED_DATA_FILE, MODEL_OUTPUT,PARAMETERS_OUTPUT"
   ]
  },
  {
   "cell_type": "markdown",
   "metadata": {},
   "source": [
    "## Datasets"
   ]
  },
  {
   "cell_type": "code",
   "execution_count": 3,
   "metadata": {},
   "outputs": [
    {
     "data": {
      "text/html": [
       "<div>\n",
       "<style scoped>\n",
       "    .dataframe tbody tr th:only-of-type {\n",
       "        vertical-align: middle;\n",
       "    }\n",
       "\n",
       "    .dataframe tbody tr th {\n",
       "        vertical-align: top;\n",
       "    }\n",
       "\n",
       "    .dataframe thead th {\n",
       "        text-align: right;\n",
       "    }\n",
       "</style>\n",
       "<table border=\"1\" class=\"dataframe\">\n",
       "  <thead>\n",
       "    <tr style=\"text-align: right;\">\n",
       "      <th></th>\n",
       "      <th>gender</th>\n",
       "      <th>age</th>\n",
       "      <th>annual_income_(k$)</th>\n",
       "      <th>spending_score_(1-100)</th>\n",
       "    </tr>\n",
       "  </thead>\n",
       "  <tbody>\n",
       "    <tr>\n",
       "      <th>0</th>\n",
       "      <td>1</td>\n",
       "      <td>0.019231</td>\n",
       "      <td>0.000000</td>\n",
       "      <td>0.387755</td>\n",
       "    </tr>\n",
       "    <tr>\n",
       "      <th>1</th>\n",
       "      <td>1</td>\n",
       "      <td>0.057692</td>\n",
       "      <td>0.000000</td>\n",
       "      <td>0.816327</td>\n",
       "    </tr>\n",
       "    <tr>\n",
       "      <th>2</th>\n",
       "      <td>0</td>\n",
       "      <td>0.038462</td>\n",
       "      <td>0.008197</td>\n",
       "      <td>0.051020</td>\n",
       "    </tr>\n",
       "    <tr>\n",
       "      <th>3</th>\n",
       "      <td>0</td>\n",
       "      <td>0.096154</td>\n",
       "      <td>0.008197</td>\n",
       "      <td>0.775510</td>\n",
       "    </tr>\n",
       "    <tr>\n",
       "      <th>4</th>\n",
       "      <td>0</td>\n",
       "      <td>0.250000</td>\n",
       "      <td>0.016393</td>\n",
       "      <td>0.397959</td>\n",
       "    </tr>\n",
       "    <tr>\n",
       "      <th>...</th>\n",
       "      <td>...</td>\n",
       "      <td>...</td>\n",
       "      <td>...</td>\n",
       "      <td>...</td>\n",
       "    </tr>\n",
       "    <tr>\n",
       "      <th>195</th>\n",
       "      <td>0</td>\n",
       "      <td>0.326923</td>\n",
       "      <td>0.860656</td>\n",
       "      <td>0.795918</td>\n",
       "    </tr>\n",
       "    <tr>\n",
       "      <th>196</th>\n",
       "      <td>0</td>\n",
       "      <td>0.519231</td>\n",
       "      <td>0.909836</td>\n",
       "      <td>0.275510</td>\n",
       "    </tr>\n",
       "    <tr>\n",
       "      <th>197</th>\n",
       "      <td>1</td>\n",
       "      <td>0.269231</td>\n",
       "      <td>0.909836</td>\n",
       "      <td>0.744898</td>\n",
       "    </tr>\n",
       "    <tr>\n",
       "      <th>198</th>\n",
       "      <td>1</td>\n",
       "      <td>0.269231</td>\n",
       "      <td>1.000000</td>\n",
       "      <td>0.173469</td>\n",
       "    </tr>\n",
       "    <tr>\n",
       "      <th>199</th>\n",
       "      <td>1</td>\n",
       "      <td>0.230769</td>\n",
       "      <td>1.000000</td>\n",
       "      <td>0.836735</td>\n",
       "    </tr>\n",
       "  </tbody>\n",
       "</table>\n",
       "<p>200 rows × 4 columns</p>\n",
       "</div>"
      ],
      "text/plain": [
       "     gender       age  annual_income_(k$)  spending_score_(1-100)\n",
       "0         1  0.019231            0.000000                0.387755\n",
       "1         1  0.057692            0.000000                0.816327\n",
       "2         0  0.038462            0.008197                0.051020\n",
       "3         0  0.096154            0.008197                0.775510\n",
       "4         0  0.250000            0.016393                0.397959\n",
       "..      ...       ...                 ...                     ...\n",
       "195       0  0.326923            0.860656                0.795918\n",
       "196       0  0.519231            0.909836                0.275510\n",
       "197       1  0.269231            0.909836                0.744898\n",
       "198       1  0.269231            1.000000                0.173469\n",
       "199       1  0.230769            1.000000                0.836735\n",
       "\n",
       "[200 rows x 4 columns]"
      ]
     },
     "execution_count": 3,
     "metadata": {},
     "output_type": "execute_result"
    }
   ],
   "source": [
    "df = pd.read_csv(PROCESSED_DATA_FILE)\n",
    "df"
   ]
  },
  {
   "cell_type": "markdown",
   "metadata": {},
   "source": [
    "## Data Exploration"
   ]
  },
  {
   "cell_type": "markdown",
   "metadata": {},
   "source": [
    "#### What is the cluster tendency of the data"
   ]
  },
  {
   "cell_type": "markdown",
   "metadata": {},
   "source": [
    "The method used is the **Hopkins test**, with the pyclustertend library implementation. The test has been used here to indicate the cluster tendency of the data by checking whether the data fits a uniformly random distribution.<!-- Might be good to go over if this is good way to check -->The results of the test give a score between 0 and 1. In this implementation of the Hopkins test, a score tending to zero indicates the data is not uniformly distributed, thus high cluster tendency; however a score that is too high can indicate no cluster tendency."
   ]
  },
  {
   "cell_type": "code",
   "execution_count": 4,
   "metadata": {},
   "outputs": [
    {
     "data": {
      "text/plain": [
       "0.2040219380454187"
      ]
     },
     "execution_count": 4,
     "metadata": {},
     "output_type": "execute_result"
    }
   ],
   "source": [
    "hopkins(df,df.shape[0])"
   ]
  },
  {
   "cell_type": "markdown",
   "metadata": {},
   "source": [
    "## Model functions "
   ]
  },
  {
   "cell_type": "code",
   "execution_count": 7,
   "metadata": {},
   "outputs": [],
   "source": [
    "class Models:\n",
    "    def KMeansModel(X,n_clusters,centre :bool):\n",
    "        \"\"\"\n",
    "        refactor later\n",
    "        first edition: call model, predict model, save model, returns model prediction and optional model centres\"\"\"\n",
    "        model = KMeans(n_clusters=n_clusters, init = 'k-means++')\n",
    "        model.fit(X)\n",
    "        kmeans_pred = model.predict(X)\n",
    "        kmeans_centre = model.cluster_centers_\n",
    "        joblib.dump(model,os.path.join(MODEL_OUTPUT,\"kmeans_model.pkl\"))\n",
    "        if centre == True:\n",
    "            return kmeans_pred, kmeans_centre\n",
    "        if centre == False:\n",
    "            return kmeans_pred\n",
    "\n",
    "    def add_prediction_df(dataframe,cluster_labels,label: str):\n",
    "        dataframe[label] = cluster_labels\n",
    "\n",
    "    def agglomerativeClustering_model(data,n_clusters: int,distance_threshold = None,what_return : str ='predict'):\n",
    "        model = AgglomerativeClustering(n_clusters=n_clusters, distance_threshold=distance_threshold)\n",
    "        agg_clust_fit = model.fit(data)\n",
    "        agg_clust_pred = model.fit_predict(data)\n",
    "        if what_return == 'predict':\n",
    "            return agg_clust_pred\n",
    "        elif what_return == 'fit':\n",
    "            return agg_clust_fit\n",
    "\n",
    "    def affinity_prop_model(data):\n",
    "        model = AffinityPropagation(damping=0.5,random_state=44)\n",
    "        affinity_clust_pred = model.fit_predict(data)\n",
    "        return affinity_clust_pred\n",
    "\n",
    "    def spectral_clustering_model(data,n_clusters):\n",
    "        model = SpectralClustering(n_clusters=n_clusters)\n",
    "        spectral_clustering_pred = model.fit_predict(data)\n",
    "        return spectral_clustering_pred\n"
   ]
  },
  {
   "cell_type": "code",
   "execution_count": 8,
   "metadata": {},
   "outputs": [],
   "source": [
    "k_pred= Models.KMeansModel(df,4,centre=False)\n",
    "ap_pred = Models.affinity_prop_model(df)\n",
    "sc_pred = Models.spectral_clustering_model(data=df,n_clusters=4)\n",
    "ac_pred = Models.agglomerativeClustering_model(data=df,n_clusters=4,distance_threshold=None,what_return='predict')"
   ]
  },
  {
   "cell_type": "code",
   "execution_count": 9,
   "metadata": {},
   "outputs": [],
   "source": [
    "models = {\n",
    "    'k_means' : k_pred,\n",
    "    'affinity_prob' : ap_pred,\n",
    "    'spectral_clustering' : sc_pred,\n",
    "    'agglomerative_clustering' : ac_pred\n",
    "}\n",
    "df_2 = df.copy()\n",
    "for model_name, model in models.items():\n",
    "    Models.add_prediction_df(df_2,cluster_labels=model,label=model_name)\n"
   ]
  },
  {
   "cell_type": "markdown",
   "metadata": {},
   "source": [
    "## Evaluation "
   ]
  },
  {
   "cell_type": "code",
   "execution_count": 10,
   "metadata": {},
   "outputs": [
    {
     "name": "stdout",
     "output_type": "stream",
     "text": [
      "k_means's amount of unique values are: 4\n",
      "affinity_prob's amount of unique values are: 9\n",
      "spectral_clustering's amount of unique values are: 4\n",
      "agglomerative_clustering's amount of unique values are: 4\n"
     ]
    }
   ],
   "source": [
    "#number of clusters \n",
    "for column in df_2.iloc[:,4:]:\n",
    "    print(f\"{column}'s amount of unique values are: {df_2[column].nunique()}\")"
   ]
  },
  {
   "cell_type": "code",
   "execution_count": 11,
   "metadata": {},
   "outputs": [
    {
     "name": "stdout",
     "output_type": "stream",
     "text": [
      "For k_means:\n",
      " the silhouette score is 0.35705293413448674\n",
      "For affinity_prob:\n",
      " the silhouette score is 0.7075817651279572\n",
      "For spectral_clustering:\n",
      " the silhouette score is 0.2706135678828743\n",
      "For agglomerative_clustering:\n",
      " the silhouette score is 0.36422432823566764\n"
     ]
    }
   ],
   "source": [
    "# Average Within-cluster similarity score for all clusters\n",
    "model_predictions = df_2.iloc[:,4:]\n",
    "for _ in model_predictions:\n",
    "    print(f\"For {_}:\\n the silhouette score is {silhouette_score(df_2,df_2[_].values)}\")"
   ]
  },
  {
   "cell_type": "markdown",
   "metadata": {},
   "source": [
    "## Analysis of Clusters"
   ]
  },
  {
   "cell_type": "code",
   "execution_count": 12,
   "metadata": {},
   "outputs": [
    {
     "name": "stdout",
     "output_type": "stream",
     "text": [
      "for prediction k_means\n",
      "\n",
      "for group 0 there are 57\n",
      "for group 1 there are 48\n",
      "for group 2 there are 55\n",
      "for group 3 there are 40\n",
      "for prediction affinity_prob\n",
      "\n",
      "for group 0 there are 18\n",
      "for group 1 there are 27\n",
      "for group 2 there are 28\n",
      "for group 3 there are 25\n",
      "for group 4 there are 25\n",
      "for group 5 there are 18\n",
      "for group 6 there are 20\n",
      "for group 7 there are 21\n",
      "for group 8 there are 18\n",
      "for prediction spectral_clustering\n",
      "\n",
      "for group 0 there are 112\n",
      "for group 1 there are 19\n",
      "for group 2 there are 39\n",
      "for group 3 there are 30\n",
      "for prediction agglomerative_clustering\n",
      "\n",
      "for group 0 there are 52\n",
      "for group 1 there are 59\n",
      "for group 2 there are 36\n",
      "for group 3 there are 53\n"
     ]
    }
   ],
   "source": [
    "for column in model_predictions:\n",
    "    print(f\"for prediction {column}\\n\")\n",
    "    for x in range(df_2[column].nunique()):\n",
    "        print(f\"for group {x} there are {df_2[df_2[column] == x].shape[0]}\")"
   ]
  }
 ],
 "metadata": {
  "interpreter": {
   "hash": "7f30ea19e858dcd7cb4581bf637bde7f17ef7a9c49fa752d2b9dea102b005652"
  },
  "kernelspec": {
   "display_name": "Python 3.7.11 64-bit ('clusters 11L21': conda)",
   "language": "python",
   "name": "python3"
  },
  "language_info": {
   "codemirror_mode": {
    "name": "ipython",
    "version": 3
   },
   "file_extension": ".py",
   "mimetype": "text/x-python",
   "name": "python",
   "nbconvert_exporter": "python",
   "pygments_lexer": "ipython3",
   "version": "3.9.7"
  },
  "orig_nbformat": 4
 },
 "nbformat": 4,
 "nbformat_minor": 2
}
