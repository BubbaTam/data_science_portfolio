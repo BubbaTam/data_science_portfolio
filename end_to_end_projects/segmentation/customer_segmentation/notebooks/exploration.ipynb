{
 "cells": [
  {
   "cell_type": "markdown",
   "metadata": {},
   "source": [
    "Data overview:\n",
    "- Size of the Data -- 200 rows and 5 features\n",
    "- Presence of Missing Data -- No\n",
    "- Scale Data? -- Yes\n",
    "- How data currently organised?\n",
    "    - The rows are initially sorted by increasing Annual income\n",
    "\n",
    "| Features | Detail of Feature | Actions to Take |\n",
    "| --- | --- | --- |\n",
    "| CustomerID | unique identification for each individual (int) | Remove (no duplicate records) |\n",
    "| Gender | gender of the individual (obj)-- male/female | One Hot Encoding |\n",
    "| Age | age of the individual (int) | scale this feature |\n",
    "| Annual Income (k$) | individual's annual income (int) | scale this feature |\n",
    "| Spending Score (1-100) | a metric on the value of a customer (int)| scale this feature |\n",
    "\n",
    "\n",
    "Personal choices:\n",
    "- Quality of life changes\n",
    "    - Changed the dataframe column headers to lowercase and without spaces\n",
    "- Scaling\n",
    "    - Release #1... with Min-max scaling (between 0 and 1).\n",
    "\n",
    "\n",
    "Modelling\n",
    "- General\n",
    "    - Release #1...the use of algorithms that partition the data\n"
   ]
  },
  {
   "cell_type": "markdown",
   "metadata": {},
   "source": []
  }
 ],
 "metadata": {
  "language_info": {
   "name": "python"
  },
  "orig_nbformat": 4
 },
 "nbformat": 4,
 "nbformat_minor": 2
}
